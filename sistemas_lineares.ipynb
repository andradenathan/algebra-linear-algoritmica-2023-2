{
  "nbformat": 4,
  "nbformat_minor": 0,
  "metadata": {
    "colab": {
      "provenance": [],
      "include_colab_link": true
    },
    "kernelspec": {
      "name": "python3",
      "display_name": "Python 3"
    }
  },
  "cells": [
    {
      "cell_type": "markdown",
      "metadata": {
        "id": "view-in-github",
        "colab_type": "text"
      },
      "source": [
        "<a href=\"https://colab.research.google.com/github/andradenathan/algebra-linear-algoritmica-2023-2/blob/main/sistemas_lineares.ipynb\" target=\"_parent\"><img src=\"https://colab.research.google.com/assets/colab-badge.svg\" alt=\"Open In Colab\"/></a>"
      ]
    },
    {
      "cell_type": "code",
      "metadata": {
        "id": "Ldp6x8VV7-IT"
      },
      "source": [
        "import numpy as np\n",
        "import scipy as sp\n",
        "from time import time"
      ],
      "execution_count": 65,
      "outputs": []
    },
    {
      "cell_type": "markdown",
      "metadata": {
        "id": "KIshdfMJ7_im"
      },
      "source": [
        "# Álgebra Linear Algorítmica - Laboratório de Sistemas lineares\n",
        "(idealizado por João Vitor Oliveira e modificado por Juliana Valério)\n",
        "\n",
        "\n",
        "Este laboratório é introdução ao grande mundo dos sistemas lineares, um objeto que a álgebra linear algorítmica soluciona e serve como mecanismo para compreendê-lo.\n",
        "\n",
        "Vamos dar algumas dicas e fazer perguntas logo em seguida.\n",
        "\n",
        "Por exemplo, resolver o seguinte sistema linear:\n",
        "\n",
        "$$\n",
        "\\begin{cases}\n",
        "  +& x_1 - 3x_2 + x_3 = 4 \\\\\n",
        "  +& 2x_1 - 8x_2 + 8x_3 = -2 \\\\\n",
        "  -&6x_1 + 3x_2 - 15x_3 = 9\n",
        "\\end{cases}\n",
        "$$\n",
        "é encontrar a solução, ou seja, $x_1,x_2,x_3$ que satisfazem as equações.\n",
        "É interessante olhar estas equações **vetorialmente**, ou seja, em uma forma $Ax = b$:\n",
        "\n",
        "$$\n",
        "\\begin{cases}\n",
        "  +& x_1 - 3x_2 + x_3 = 4 \\\\\n",
        "  +& 2x_1 - 8x_2 + 8x_3 = -2 \\\\\n",
        "  -&6x_1 + 3x_2 - 15x_3 = 9\n",
        "\\end{cases}\n",
        "\\to\n",
        "\\begin{bmatrix}\n",
        "1 & -3 & 1 \\\\\n",
        "2 & -8 & 8 \\\\\n",
        "-6 & 3 & -15\n",
        "\\end{bmatrix}\n",
        "\\begin{bmatrix}\n",
        "x_1 \\\\\n",
        "x_2 \\\\\n",
        "x_3\n",
        "\\end{bmatrix}\n",
        "=\n",
        "\\begin{bmatrix}\n",
        "4 \\\\\n",
        "-2 \\\\\n",
        "9\n",
        "\\end{bmatrix}\n",
        "$$\n",
        "\n",
        "Para realizar as contas, podemos usar as bibliotecas de cálculos científicos ( $numpy$ e $scipy$) para representar a matriz $A$ e o vetor $b$. Nesse exemplo, a matriz e o vetor são:"
      ]
    },
    {
      "cell_type": "code",
      "metadata": {
        "id": "HbulaPt8EB_Y"
      },
      "source": [
        "A = np.array([[1.,-3,1],[2,-8,8],[-6,3,-15]])\n",
        "b = np.array([4.,-2.,9.])"
      ],
      "execution_count": 2,
      "outputs": []
    },
    {
      "cell_type": "markdown",
      "metadata": {
        "id": "18A7XmemEgZM"
      },
      "source": [
        "Podemos acessar os elementos da matriz $A$ sem grandes problemas:"
      ]
    },
    {
      "cell_type": "code",
      "metadata": {
        "id": "Ugv-CwVeEZdG",
        "outputId": "f451059b-a653-4b9e-cd44-429af4e7af4b",
        "colab": {
          "base_uri": "https://localhost:8080/"
        }
      },
      "source": [
        "A[0,0], A[0,1], A[0,2], A[1,0], A[1,1], A[1,2], A[2,0], A[2,1], A[2,2]"
      ],
      "execution_count": 3,
      "outputs": [
        {
          "output_type": "execute_result",
          "data": {
            "text/plain": [
              "(1.0, -3.0, 1.0, 2.0, -8.0, 8.0, -6.0, 3.0, -15.0)"
            ]
          },
          "metadata": {},
          "execution_count": 3
        }
      ]
    },
    {
      "cell_type": "markdown",
      "metadata": {
        "id": "6VvWhudkE8as"
      },
      "source": [
        "E do vetor $b$ também:"
      ]
    },
    {
      "cell_type": "code",
      "metadata": {
        "id": "HSo4cbnzEZzE",
        "outputId": "e08677ac-f634-4583-a493-0a6de0f74fa7",
        "colab": {
          "base_uri": "https://localhost:8080/"
        }
      },
      "source": [
        "b[0], b[1], b[2]"
      ],
      "execution_count": 4,
      "outputs": [
        {
          "output_type": "execute_result",
          "data": {
            "text/plain": [
              "(4.0, -2.0, 9.0)"
            ]
          },
          "metadata": {},
          "execution_count": 4
        }
      ]
    },
    {
      "cell_type": "markdown",
      "source": [
        "Dadas as dicas, programe as funções abaixo e responda às perguntas na sala classroom."
      ],
      "metadata": {
        "id": "w5QNrrSEG4M6"
      }
    },
    {
      "cell_type": "markdown",
      "source": [
        "#OBJETIVO: Resolver sistemas lineares."
      ],
      "metadata": {
        "id": "n2dPlR97MQOR"
      }
    },
    {
      "cell_type": "markdown",
      "source": [
        "### 1) Escreva uma função que verifique se a matriz do sistema linear é ortogonal.  Se a matriz for ortogonal, não é necessário transformar a matriz em escada para resolver o sistema linear, por que? O que fazer para resolver, nesse caso?\n",
        "\n",
        "**Resposta**\n",
        "Se uma matriz $A$ é ortogonal, isto diz que a matriz $A^t$ será igual à sua inversa e é chamada de pseudoinversa. Dessa forma, se tivermos um sistema linear $Ax = b$, poderíamos calcular $x = A^tb$.\n",
        "\n",
        "Uma forma de verificarmos isso, é se o produto de $AA^t = I$ e $A^tA = I$."
      ],
      "metadata": {
        "id": "RVRMe10cH0Oa"
      }
    },
    {
      "cell_type": "code",
      "source": [
        "def eh_ortogonal(A):\n",
        "  dimensao = len(A)\n",
        "  return np.allclose(A @ A.T, np.identity(dimensao)) and \\\n",
        "    np.allclose(A.T @ A, np.identity(dimensao))\n",
        "\n",
        "A = np.array([[1.,0.], [0., -1]])\n",
        "eh_ortogonal(A)"
      ],
      "metadata": {
        "id": "OKHhvOmyIj8Q",
        "colab": {
          "base_uri": "https://localhost:8080/"
        },
        "outputId": "44b95d4b-3d14-42fd-f5b2-fc04a10768e8"
      },
      "execution_count": 20,
      "outputs": [
        {
          "output_type": "execute_result",
          "data": {
            "text/plain": [
              "True"
            ]
          },
          "metadata": {},
          "execution_count": 20
        }
      ]
    },
    {
      "cell_type": "markdown",
      "metadata": {
        "id": "nxcWbT-jFEeJ"
      },
      "source": [
        "\n",
        "\n",
        "### 2) Escreva uma função de **Substituição Reversa** que recebe uma matriz triangular $U$ e um vetor $y$ e retorna a solução $x$ tal que $Ux=y$."
      ]
    },
    {
      "cell_type": "markdown",
      "source": [
        "```\n",
        "def SubsRev(U,y):\n",
        "    ...\n",
        "    for k in range(...):\n",
        "        ...\n",
        "        for j in range(...):\n",
        "    return x\n",
        "```"
      ],
      "metadata": {
        "id": "ZF66fs85OPBz"
      }
    },
    {
      "cell_type": "code",
      "source": [
        "def substituicao_reversa(U, y):\n",
        "  dimensao = len(y)\n",
        "  x = np.zeros(dimensao)\n",
        "\n",
        "  for i in range(dimensao-1, -1, -1):\n",
        "    somatorio = 0\n",
        "    for j in range(i + 1, dimensao):\n",
        "      somatorio += U[i, j] * x[j]\n",
        "\n",
        "    x[i] = (y[i] - somatorio)/U[i, i]\n",
        "\n",
        "  return x"
      ],
      "metadata": {
        "id": "8ufNkXPzJj0V"
      },
      "execution_count": 22,
      "outputs": []
    },
    {
      "cell_type": "markdown",
      "metadata": {
        "id": "BWOQnxPWHPh7"
      },
      "source": [
        "### 3) Proponha e implemente uma forma de verificar a **corretude** do seu programa.  "
      ]
    },
    {
      "cell_type": "code",
      "metadata": {
        "id": "G9Z8EoCGsRba",
        "colab": {
          "base_uri": "https://localhost:8080/"
        },
        "outputId": "b76b806f-8d3c-4e08-84be-34ce5781c8d1"
      },
      "source": [
        "def corretude_substituicao_reversa(U, x, y):\n",
        "  Ux = U @ x\n",
        "  return np.allclose(Ux, y)\n",
        "\n",
        "U = np.array([[3, 2, 1],\n",
        "              [0, 2, 2],\n",
        "              [0, 0, 1]])\n",
        "y = np.array([1, 2, 3])\n",
        "x = substituicao_reversa(U, y)\n",
        "corretude_substituicao_reversa(U, x, y)"
      ],
      "execution_count": 42,
      "outputs": [
        {
          "output_type": "execute_result",
          "data": {
            "text/plain": [
              "True"
            ]
          },
          "metadata": {},
          "execution_count": 42
        }
      ]
    },
    {
      "cell_type": "markdown",
      "metadata": {
        "id": "UhdJ0IoSsRz0"
      },
      "source": [
        "### 4) Escreva uma função de **Eliminação Gaussiana** que recebe uma matriz cheia $A$ e um vetor $b$ e retorna uma matriz escada $U$ e um vetor $y$ tal que a solução de $Ax=b$ e $Ux=y$ é a mesma."
      ]
    },
    {
      "cell_type": "markdown",
      "source": [
        "```\n",
        "def Egauss_sp(A, b):\n",
        "   ...\n",
        "    for k in range(...):\n",
        "    ...\n",
        "        for j in range(...):\n",
        "        ...\n",
        "            for l in range(...):\n",
        "                ...\n",
        "     return U,y\n",
        "```"
      ],
      "metadata": {
        "id": "zg5wHG7zQZt1"
      }
    },
    {
      "cell_type": "code",
      "metadata": {
        "id": "nrwXlR8asNCK",
        "colab": {
          "base_uri": "https://localhost:8080/"
        },
        "outputId": "e3f3618a-80f7-4fc3-9f35-439743d30742"
      },
      "source": [
        "def eliminacao_gausseana(A, b):\n",
        "  dimensao = len(b)\n",
        "  for i in range(dimensao):\n",
        "    pivot = A[i,i]\n",
        "    A[i] = A[i] / pivot\n",
        "    b[i] = b[i] / pivot\n",
        "    # o segundo for é para alterar as linhas abaixo do pivot\n",
        "    for j in range(i + 1, dimensao):\n",
        "      m_ji = A[j,i]\n",
        "      A[j] = A[j] - m_ji * A[i]\n",
        "      b[j] = b[j] - m_ji * b[i]\n",
        "  return A,b\n",
        "\n",
        "A = np.array([[3, 2, -1],\n",
        "              [1, -2, 3],\n",
        "              [2, 3, 2]])\n",
        "b = np.array([1, 2, 3])\n",
        "eliminacao_gausseana(A, b)"
      ],
      "execution_count": 47,
      "outputs": [
        {
          "output_type": "execute_result",
          "data": {
            "text/plain": [
              "(array([[ 1,  0,  0],\n",
              "        [ 0,  1, -1],\n",
              "        [ 0,  0,  1]]),\n",
              " array([ 0, -1,  1]))"
            ]
          },
          "metadata": {},
          "execution_count": 47
        }
      ]
    },
    {
      "cell_type": "markdown",
      "source": [
        "###5) Use as funções de **Eliminação Gaussiana** e **Substituição Reversa** para resolver o sistema:\n",
        "$$\n",
        "\\begin{cases}\n",
        "  +& x_1 - 3x_2 + x_3 = 4 \\\\\n",
        "  +& 2x_1 - 8x_2 + 8x_3 = -2 \\\\\n",
        "  -&6x_1 + 3x_2 - 15x_3 = 9\n",
        "\\end{cases}\n",
        "$$\n",
        "\n",
        "###Verifique se a solução encontrada é correta."
      ],
      "metadata": {
        "id": "Cst_qA5oMnwE"
      }
    },
    {
      "cell_type": "code",
      "source": [
        "A = np.array([[1, -3, 1],\n",
        "              [2, -8, 8],\n",
        "              [6, 3, -15]])\n",
        "b = np.array([4, -2, 9])\n",
        "U, y = eliminacao_gausseana(A, b)\n",
        "x = substituicao_reversa(U, y)\n",
        "corretude_substituicao_reversa(U,x,y)"
      ],
      "metadata": {
        "colab": {
          "base_uri": "https://localhost:8080/"
        },
        "id": "u8r4UmD_e_g0",
        "outputId": "b6e79610-5802-47b9-deb1-ae29edc76fe9"
      },
      "execution_count": 49,
      "outputs": [
        {
          "output_type": "execute_result",
          "data": {
            "text/plain": [
              "True"
            ]
          },
          "metadata": {},
          "execution_count": 49
        }
      ]
    },
    {
      "cell_type": "markdown",
      "metadata": {
        "id": "DNddl3FFpzHm"
      },
      "source": [
        "### 6) Se fossem trocadas a primeira e a segunda linha da matriz $A$ junto com o vetor $b$, ou seja, se o sistema linear passasse a ser esse\n",
        "\n",
        "$$\n",
        "\\begin{cases}\n",
        "  +& 2x_1 - 8x_2 + 8x_3 = -2 \\\\\n",
        "  +& x_1 - 3x_2 + x_3 = 4 \\\\\n",
        "  -&6x_1 + 3x_2 - 15x_3 = 9\n",
        "\\end{cases}\n",
        "\\to\n",
        "\\begin{bmatrix}\n",
        "2 & -8 & 8 \\\\\n",
        "1 & -3 & 1 \\\\\n",
        "-6 & 3 & -15\n",
        "\\end{bmatrix}\n",
        "\\begin{bmatrix}\n",
        "x_1 \\\\\n",
        "x_2 \\\\\n",
        "x_3\n",
        "\\end{bmatrix}\n",
        "=\n",
        "\\begin{bmatrix}\n",
        "-2 \\\\\n",
        "4 \\\\\n",
        "9\n",
        "\\end{bmatrix}\n",
        "$$\n",
        "\n",
        "### teria alguma mudança significativa?\n",
        "\n"
      ]
    },
    {
      "cell_type": "markdown",
      "metadata": {
        "id": "MGG3AYSvroMn"
      },
      "source": [
        "### 7) Usando o comando\n",
        "\n",
        "```\n",
        "np.random.rand(n,n)\n",
        "```\n",
        "Para gerar sistema lineares aleatórios com $n$ variáveis e $n$ equações para $n=10, 100, 5000$ usando sua implementação.\n",
        "\n",
        "Resolva o sistema, faça uma medida de tempo (*) e verifique a corretude.\n",
        "\n",
        "\n",
        "(*) Faça uma medida de tempo usando a biblioteca time https://pythonhelp.wordpress.com/2011/09/13/medindo-tempo-de-execucao-de-programas-python/"
      ]
    },
    {
      "cell_type": "code",
      "metadata": {
        "id": "fBPqZfejWB07",
        "colab": {
          "base_uri": "https://localhost:8080/"
        },
        "outputId": "833f8afb-8ff0-44a2-dd61-dc38f4864e48"
      },
      "source": [
        "def resolve_sistema_linear_matriz_aleatoria(n):\n",
        "  inicio = time()\n",
        "  A = np.random.rand(n, n)\n",
        "  b = np.random.rand(n)\n",
        "  U, y = eliminacao_gausseana(A, b)\n",
        "  x = substituicao_reversa(U, y)\n",
        "  fim = time()\n",
        "\n",
        "  if corretude_substituicao_reversa(U, x, y):\n",
        "    print(f\"Tempo de execução: {fim - inicio:.3f} segundo(s) para n = {n}\")\n",
        "  else:\n",
        "    print(f\"Tempo de execução: {fim - inicio:.3f} segundo(s) mas falhou no teste da corretude para n = {n}\")\n",
        "\n",
        "resolve_sistema_linear_matriz_aleatoria(10)\n",
        "resolve_sistema_linear_matriz_aleatoria(100)\n",
        "resolve_sistema_linear_matriz_aleatoria(1000)\n",
        "resolve_sistema_linear_matriz_aleatoria(5000)"
      ],
      "execution_count": 67,
      "outputs": [
        {
          "output_type": "stream",
          "name": "stdout",
          "text": [
            "Tempo de execução: 0.001 segundo(s) para n = 10\n",
            "Tempo de execução: 0.026 segundo(s) para n = 100\n",
            "Tempo de execução: 3.807 segundo(s) para n = 1000\n",
            "Tempo de execução: 167.767 segundo(s) para n = 5000\n"
          ]
        }
      ]
    },
    {
      "cell_type": "markdown",
      "source": [
        "##8) Usando $A$ = $np.random.rand(3,3)$, resolva $Ax_i = e_i$, para $i=1,2,3$ . Mostre que $x_1$, $x_2$ e $x_3$ são as colunas da inversa de $A$. Explique porque."
      ],
      "metadata": {
        "id": "SPakU6z7diGw"
      }
    }
  ]
}