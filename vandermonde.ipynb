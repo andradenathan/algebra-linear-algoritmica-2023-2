{
  "nbformat": 4,
  "nbformat_minor": 0,
  "metadata": {
    "colab": {
      "provenance": [],
      "include_colab_link": true
    },
    "kernelspec": {
      "name": "python3",
      "display_name": "Python 3"
    }
  },
  "cells": [
    {
      "cell_type": "markdown",
      "metadata": {
        "id": "view-in-github",
        "colab_type": "text"
      },
      "source": [
        "<a href=\"https://colab.research.google.com/github/andradenathan/algebra-linear-algoritmica-2023-2/blob/main/vandermonde.ipynb\" target=\"_parent\"><img src=\"https://colab.research.google.com/assets/colab-badge.svg\" alt=\"Open In Colab\"/></a>"
      ]
    },
    {
      "cell_type": "markdown",
      "metadata": {
        "id": "aUin4c7sQKbZ"
      },
      "source": [
        "Faça uma cópia desse Coab no seu Drive, coloque seu nome e DRE e responda às perguntas no próprio docuemto.\n",
        "\n",
        "Na sala Classroom, coloque o link lembrando de deixá-lo aberto para visualização.\n",
        "\n",
        "\n",
        "###Nome: Nathan Andrade dos Santos Lobo\n",
        "###DRE: 120082390"
      ]
    },
    {
      "cell_type": "markdown",
      "source": [
        "# APLICAÇÕES\n",
        "\n",
        "\n",
        "A álgebra linear aprarece no dia a dia, vamos ver duas situações cuja modelagem resulta em um sistema linear."
      ],
      "metadata": {
        "id": "yoVmUzg8MjYY"
      }
    },
    {
      "cell_type": "markdown",
      "source": [
        "**CASO 1)** Em diversas situações temos uma distribuição de pontos e é conveniente conhecer uma possível curva que liga esses pontos para obter informações do fenômeno medido/observado.\n",
        "\n",
        "Por exemplo, medimos a posição de uma bola na trajetória para o glol. A trajetória da bola parecia uma parábola e sabendo a distância e altura da bola no momento de partida, uma outra medição no meio da trajetória e uma no momento que a bola cruza a linha do gol é suficiente para encontrarmos a parábola que a bola descreve. E é um problema de álgebra linear, já que:\n",
        "\n",
        "$$p(x) = c_0 + c_1 x + c_2 x^2, $$\n",
        "\n",
        "com $p$ a altura e $x$ a distância do ponto de partida.\n",
        "\n",
        "\n",
        "Conhecendo 3 pontos, ou seja três distâncias $x$s e suas respectivas alturas $p$s: $\n",
        " \\begin{pmatrix}\n",
        "  x_{o} & p_{0}\\\\\n",
        "   x_{1} & p_{1}\\\\\n",
        "    x_{2} & p_{2}\n",
        " \\end{pmatrix}$.\n",
        "\n",
        " E para encontrar o vetor $\n",
        " \\begin{pmatrix}\n",
        "  c_{o} \\\\\n",
        "   c_{1} \\\\\n",
        "    c_{2}\n",
        " \\end{pmatrix}$, basta resolver um sistema linear.\n",
        "\n",
        "\n",
        " a) Modele o problema e diga quem é $V$ $c$ e $p$ de $Vc=p$, em função de $x_i, p_i$ e  $c_i$. \\\\\n",
        "\n",
        " **Resposta:**\n",
        "\n",
        "Sabendo que teremos uma equação onde\n",
        "$p(x) = c_0 + c_1x + c_2x$, teremos pontos na forma:\n",
        "\n",
        "$p_0 = c_0 + c_1x_0 + c_2x_0²$ \\\\\n",
        "$p_1 = c_0 + c_1x_1 + c_2x_1²$ \\\\\n",
        "$p_2 = c_0 + c_1x_2 + c_2x_2²$ \\\\\n",
        "$\\vdots$ \\\\\n",
        "$p_i = c_0 + c_1x_i + c_2x_i²$\n",
        "\n",
        "\n",
        "transformando matricialmente, temos que: \\\\\n",
        "$Vc = p$, onde \\\\\n",
        "$$\n",
        " \\begin{pmatrix}\n",
        "  1 & x_0  & x_0² \\\\\n",
        "  1 & x_1  & x_1² \\\\\n",
        "  1 & x_2 & x_2²\n",
        " \\end{pmatrix}\n",
        " \\cdot\n",
        " \\begin{pmatrix}\n",
        "  c_0 \\\\\n",
        "  c_1 \\\\\n",
        "  c_2 \\\\\n",
        "  \\end{pmatrix}\n",
        "  =\n",
        " \\begin{pmatrix}\n",
        "  p_0 \\\\\n",
        "  p_1 \\\\\n",
        "  p_2 \\\\\n",
        "  \\end{pmatrix}\n",
        " $$\n",
        "\n",
        "\n",
        "b) Chega-se num sistema $3 \\times 3$ e é interessante ter uma forma algorítmica para resolver. Nesse caminho, vamos explorar as matrizes elementares. \\\\\n",
        "\n",
        "**Resposta:**\n",
        "Utilizaremos a matriz elementar para trocar as linhas a fim de termos uma matriz triangular superior, onde a parte inferior da matriz será composta por zeros, de modo que calcular o sistema linear ao aplicar a matriz no vetor $c$, será mais simples de resolver.\n",
        "\n",
        "Para matriz anterior, queremos zerar os coeficientes $a_{21}$, $a_{31}$, $a_{32}$.\n",
        "\n",
        "Então para isso, utilizando matricialmente, querendo aplicar uma matriz elementar três vezes de modo que façamos:\n",
        "\n",
        "$$\n",
        "E_{21} (m_{21}) =\n",
        "\\begin{pmatrix}\n",
        "  1  & 0  & 0 \\\\\n",
        "  m_{21} & 1  & 0 \\\\\n",
        "  0  & 0 & 1\n",
        " \\end{pmatrix}\n",
        "$$\n",
        "\n",
        "$$\n",
        "E_{31} (m_{31}) =\n",
        "\\begin{pmatrix}\n",
        "  1 & 0 & 0 \\\\\n",
        "  0 & 1 & 0 \\\\\n",
        " m_{31} & 0 & 1\n",
        " \\end{pmatrix}\n",
        "$$\n",
        "\n",
        "e, por último\n",
        "\n",
        "$$\n",
        "E_{32} (m_{32}) =\n",
        "\\begin{pmatrix}\n",
        "  1 & 0 & 0 \\\\\n",
        "  0 & 1 & 0 \\\\\n",
        "  0 & m_{32} & 1\n",
        " \\end{pmatrix}\n",
        "$$\n",
        "\n",
        "c) Use as matrizes elementares para transformar a matriz $V$ em uma matriz triangular superior. Lembrando que do ponto de vista do sistema linear, toda operação feita em $V$ deve ser também feita em $p$.\n",
        "\n",
        "Queremos aplicar $(E_{32} \\cdot E_{31} \\cdot E_{21}) \\cdot V$, mas, antes, queremos calcular os coeficientes $m_{21}, m_{31}, m_{32}$.\n",
        "\n",
        "Sabendo que queremos zerar os elementos das linhas, então:\n",
        "\n",
        "$m_{21}L_{1} + L_{2} = 0$ \\\\\n",
        "$m_{31}L_{1} + L_{2} = 0$ \\\\\n",
        "$m_{32}L_{2} + L_{3} = 0$ \\\\\n",
        "\n",
        "$$\n",
        "m_{21} = m_{31} = -1 \\\\\n",
        "m_{32} = - \\frac{x_2-x_0}{x_1-x_0}\n",
        "$$\n",
        "\n",
        "então, por fim, a matriz triangular superior será:\n",
        "$$\n",
        "\\begin{pmatrix}\n",
        "  1 & x_0  & x_0² \\\\\n",
        "  0 & x_1 - x_0  & x_1² - x_0^2 \\\\\n",
        "  0 & 0 & -(x_2-x_0)(x_1+x_0) + (x_2^2 - x_0^2)\n",
        " \\end{pmatrix}\n",
        " \\cdot\n",
        " \\begin{pmatrix}\n",
        "  c_0 \\\\\n",
        "  c_1 \\\\\n",
        "  c_2 \\\\\n",
        "  \\end{pmatrix}\n",
        "  =\n",
        " \\begin{pmatrix}\n",
        "  p_0 \\\\\n",
        "  p_1 - p_0 \\\\\n",
        "  (p_2 - p_0) - \\frac{x_2-x_0}{x_1-x_0} \\cdot p_1 - p_0 \\\\\n",
        "  \\end{pmatrix}\n",
        " $$\n",
        "$$\n",
        "\n",
        " d) Transformando o sistema em um sistema com a matriz triangular superior é fácil encontrar a solução. Sabendo que : $\n",
        " \\begin{pmatrix}\n",
        "  x_{o} = 0 & p_{0} = 1\\\\\n",
        "   x_{1}=0.70  & p_{1} = 1.91\\\\\n",
        "    x_{2}=1.40 & p_{2}=1.84\n",
        " \\end{pmatrix}$, encontre a parábola que interpola os pontos.\n",
        "\n",
        "\n",
        "**Resposta:**\n",
        "\n",
        "Sabendo do problema modelado no item **a**, temos que:\n",
        "$$\n",
        " \\begin{pmatrix}\n",
        "  1 & x_0  & x_0² \\\\\n",
        "  1 & x_1  & x_1² \\\\\n",
        "  1 & x_2 & x_2²\n",
        " \\end{pmatrix}\n",
        " \\cdot\n",
        " \\begin{pmatrix}\n",
        "  c_0 \\\\\n",
        "  c_1 \\\\\n",
        "  c_2 \\\\\n",
        "  \\end{pmatrix}\n",
        "  =\n",
        " \\begin{pmatrix}\n",
        "  p_0 \\\\\n",
        "  p_1 \\\\\n",
        "  p_2 \\\\\n",
        "  \\end{pmatrix}\n",
        " $$\n",
        "\n",
        " substituindo os valores na equação, temos:\n",
        "\n",
        " $$\n",
        " \\begin{pmatrix}\n",
        "  1 & 0  & 0 \\\\\n",
        "  1 & 0.70  & 0.49 \\\\\n",
        "  1 & 1.40 & 1.96\n",
        " \\end{pmatrix}\n",
        " \\cdot\n",
        " \\begin{pmatrix}\n",
        "  c_0 \\\\\n",
        "  c_1 \\\\\n",
        "  c_2 \\\\\n",
        "  \\end{pmatrix}\n",
        "  =\n",
        " \\begin{pmatrix}\n",
        "  1 \\\\\n",
        "  1.91 \\\\\n",
        "  1.84 \\\\\n",
        "  \\end{pmatrix}\n",
        " $$\n",
        "\n",
        "transformando a matriz acima em uma matriz triangular superior utilizando a matriz que calculamos logo acima, seja:\n",
        "\n",
        "$$\n",
        " \\begin{pmatrix}\n",
        "  1 & 0  & 0 \\\\\n",
        "  0 & 0.70  & 0.49 \\\\\n",
        "  0 & 0 & 0.98\n",
        " \\end{pmatrix}\n",
        " \\cdot\n",
        " \\begin{pmatrix}\n",
        "  c_0 \\\\\n",
        "  c_1 \\\\\n",
        "  c_2 \\\\\n",
        "  \\end{pmatrix}\n",
        "  =\n",
        " \\begin{pmatrix}\n",
        "  1 \\\\\n",
        "  0.91 \\\\\n",
        "  -0.98 \\\\\n",
        "  \\end{pmatrix}\n",
        "$$\n",
        "\n",
        "calculando o sistema linear formado acima, temos que:\n",
        "\n",
        "$c_2 = -1$ \\\\\n",
        "$0.70c_1 + 0.49c_2 = 0.91$, $c_1 = \\frac{0.91+0.49}{0.70} = 2$ \\\\\n",
        "$c_0 = 1$\n",
        "\n",
        "ou seja, portanto, a parábola encontrada será:\n",
        "$p(x) = -x^2 + 2x + 1$\n",
        "\n",
        " e) Faca um gráfico dessa parábola de $x=0$ até $x=2$ e diga a qual distância a altura foi máxima.\n",
        "\n",
        "**Resposta:**\n",
        "\n",
        "A altura máxima da parábola está visivel no gráfico que é 2.\n"
      ],
      "metadata": {
        "id": "8MliX10h47Gt"
      }
    },
    {
      "cell_type": "markdown",
      "source": [
        "As biblotecas e comandos abaixo podem ser úteis:"
      ],
      "metadata": {
        "id": "r4ki43dAMMpC"
      }
    },
    {
      "cell_type": "code",
      "metadata": {
        "id": "JJitTwiBQIdP"
      },
      "source": [
        "%matplotlib inline\n",
        "import matplotlib.pyplot as plt\n",
        "import numpy as np\n",
        "import scipy.linalg as sp\n",
        "import scipy as sp\n",
        "from matplotlib import animation\n",
        "from IPython.display import HTML"
      ],
      "execution_count": null,
      "outputs": []
    },
    {
      "cell_type": "code",
      "metadata": {
        "id": "f_br4AdNZTxj"
      },
      "source": [
        "x = np.linspace(-1,5,100)\n",
        "px = -x**2 + 2 * x + 1"
      ],
      "execution_count": null,
      "outputs": []
    },
    {
      "cell_type": "code",
      "metadata": {
        "id": "FjLL1XC9RJ5j",
        "outputId": "8eb28774-bdce-48e5-cd60-446a145c67e2",
        "colab": {
          "base_uri": "https://localhost:8080/",
          "height": 468
        }
      },
      "source": [
        "plt.figure(figsize=(5,5))\n",
        "plt.plot(x,px, label = \"p(x)= -x² + 2x + 1\")\n",
        "plt.xlim(0,2)\n",
        "plt.ylim(0,2.5)\n",
        "plt.legend(bbox_to_anchor=(1.05, 1), loc=2, borderaxespad=0., prop={'size': 16})"
      ],
      "execution_count": null,
      "outputs": [
        {
          "output_type": "execute_result",
          "data": {
            "text/plain": [
              "<matplotlib.legend.Legend at 0x7ebe558314e0>"
            ]
          },
          "metadata": {},
          "execution_count": 37
        },
        {
          "output_type": "display_data",
          "data": {
            "text/plain": [
              "<Figure size 500x500 with 1 Axes>"
            ],
            "image/png": "[encoded data removed]"
          },
          "metadata": {}
        }
      ]
    }
  ]
}