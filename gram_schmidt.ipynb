{
  "nbformat": 4,
  "nbformat_minor": 0,
  "metadata": {
    "colab": {
      "provenance": [],
      "authorship_tag": "ABX9TyNEHWhJk5DZ85eeM7rD9Mox",
      "include_colab_link": true
    },
    "kernelspec": {
      "name": "python3",
      "display_name": "Python 3"
    },
    "language_info": {
      "name": "python"
    }
  },
  "cells": [
    {
      "cell_type": "markdown",
      "metadata": {
        "id": "view-in-github",
        "colab_type": "text"
      },
      "source": [
        "<a href=\"https://colab.research.google.com/github/andradenathan/algebra-linear-algoritmica-2023-2/blob/main/gram_schmidt.ipynb\" target=\"_parent\"><img src=\"https://colab.research.google.com/assets/colab-badge.svg\" alt=\"Open In Colab\"/></a>"
      ]
    },
    {
      "cell_type": "markdown",
      "source": [
        "## Laboratório de Ortogonalização\n",
        "\n",
        "#### Nome: Nathan Andrade dos Santos Lobo\n",
        "#### DRE: 120082390"
      ],
      "metadata": {
        "id": "I7yLNGlWoBrl"
      }
    },
    {
      "cell_type": "code",
      "execution_count": 385,
      "metadata": {
        "id": "rT7a626lX6r0"
      },
      "outputs": [],
      "source": [
        "import numpy as np\n",
        "from scipy.linalg import lu, qr\n",
        "\n",
        "A = np.array([\n",
        "    [2,1,3,4],\n",
        "    [4,5,8,9],\n",
        "    [-16,-17,-31,-35],\n",
        "    [12,12,23,26],\n",
        "    [20,22,39,44]\n",
        "])"
      ]
    },
    {
      "cell_type": "markdown",
      "source": [
        "### 1) Quais são os vetores linearmente independentes?"
      ],
      "metadata": {
        "id": "g-_7TG_1iVzv"
      }
    },
    {
      "cell_type": "code",
      "source": [
        "def pegar_vetores_linearmente_independente(U):\n",
        "  (n, m) = U.shape\n",
        "  LI = np.zeros((n,m))\n",
        "  for i in range(n):\n",
        "    vetor_nulo = all(map(lambda v: v == 0, U[i]))\n",
        "    if not vetor_nulo:\n",
        "      LI[:, i] = A[i]\n",
        "\n",
        "  colunas_nao_nulas = np.all(LI != 0, axis=0)\n",
        "  LI = LI[:, colunas_nao_nulas]\n",
        "  return LI"
      ],
      "metadata": {
        "id": "Dva4nqpkm4s1"
      },
      "execution_count": 386,
      "outputs": []
    },
    {
      "cell_type": "code",
      "source": [
        "P, L, U = lu(A.T)\n",
        "vetores_linearmente_independente = pegar_vetores_linearmente_independente(U)\n",
        "print(vetores_linearmente_independente)"
      ],
      "metadata": {
        "id": "HsqdljgGiL12",
        "colab": {
          "base_uri": "https://localhost:8080/"
        },
        "outputId": "ed54edec-f8e1-4684-edf4-a0d59afd00da"
      },
      "execution_count": 387,
      "outputs": [
        {
          "output_type": "stream",
          "name": "stdout",
          "text": [
            "[[  2.   4. -16.]\n",
            " [  1.   5. -17.]\n",
            " [  3.   8. -31.]\n",
            " [  4.   9. -35.]]\n"
          ]
        }
      ]
    },
    {
      "cell_type": "markdown",
      "source": [
        "#### 2) A partir deles como encontrar geradores para o mesmo espaço ortonormais?\n",
        "\n",
        "Através do algoritmo de *Gram-Schmidt*. Do pseudocódigo da apostila do Collier, na página 162, temos:\n",
        "\n",
        "Passo 1. inicialize $β$ como a lista vazia \\\\\n",
        "Passo 2. atribua a $u_{1}$ a normalização de $v_{1}$ \\\\\n",
        "Passo 3. para $i$ = $2$, $\\cdots$, $m$ faça: \\\\\n",
        "$\\hspace{3cm}$ calcule $w_i$ = $v_i$ - $\\langle  \\; v_i, u_1 \\; \\rangle$ $u_1$ $- \\cdots - \\langle  \\; v_i, u_{i-1} \\; \\rangle$ $u_{i-1}$ \\\\\n",
        "$\\hspace{3cm}$ atribua a $u_{i}$ a normalização de $w_{i}$ \\\\\n",
        "$\\hspace{3cm}$ acrescente $u_{i}$ ao final de β\n",
        "\n",
        "retorne $β$."
      ],
      "metadata": {
        "id": "CsaDPRHIoOhM"
      }
    },
    {
      "cell_type": "code",
      "source": [
        "def gram_schmidt(vetores_LI):\n",
        "  (n, m) = vetores_LI.shape\n",
        "  base_ortonormal = np.zeros((n, m))\n",
        "  for i in range(m):\n",
        "    w_i = vetores_LI[:, i]\n",
        "    for j in range(i):\n",
        "      u_j = vetores_LI[:, j]\n",
        "      w_i = w_i - np.dot(u_j, w_i) * u_j\n",
        "    w_i = w_i / np.linalg.norm(w_i)\n",
        "    base_ortonormal[:, i] = w_i\n",
        "  return base_ortonormal\n",
        "\n",
        "base_ortonormal = gram_schmidt(vetores_linearmente_independente)\n",
        "print(base_ortonormal)"
      ],
      "metadata": {
        "colab": {
          "base_uri": "https://localhost:8080/"
        },
        "id": "qUc8I7TqoRKf",
        "outputId": "d9ef50a0-af65-4521-a5f7-33bb4bb49188"
      },
      "execution_count": 392,
      "outputs": [
        {
          "output_type": "stream",
          "name": "stdout",
          "text": [
            "[[ 0.36514837 -0.36738037 -0.29284666]\n",
            " [ 0.18257419 -0.17592863 -0.36761626]\n",
            " [ 0.54772256 -0.54589619 -0.58673565]\n",
            " [ 0.73029674 -0.73217356 -0.65942429]]\n"
          ]
        }
      ]
    },
    {
      "cell_type": "code",
      "source": [
        "def corretude_gram_schmidt(A):\n",
        "  (n,m) = A.shape\n",
        "  tolerancia = 1e-18\n",
        "  for i in range(m):\n",
        "    v_i = A[:, i]\n",
        "    for j in range(i+1, n-1):\n",
        "      v_j = A[:, j]\n",
        "      produto_interno = np.dot(v_i, v_j)\n",
        "      if abs(produto_interno) > tolerancia:\n",
        "        print(f\"<v_i, v_j> = 0 para v_i: {v_i} e v_j: {v_j}\")\n",
        "      else:\n",
        "        print(produto_interno)\n",
        "\n",
        "corretude_gram_schmidt(base_ortonormal)"
      ],
      "metadata": {
        "colab": {
          "base_uri": "https://localhost:8080/"
        },
        "id": "b9uaLvPdWZON",
        "outputId": "17d2b16a-bdee-44ba-d06c-f2a178154060"
      },
      "execution_count": 391,
      "outputs": [
        {
          "output_type": "stream",
          "name": "stdout",
          "text": [
            "<v_i, v_j> = 0 para v_i: [0.36514837 0.18257419 0.54772256 0.73029674] e v_j: [-0.36738037 -0.17592863 -0.54589619 -0.73217356]\n",
            "<v_i, v_j> = 0 para v_i: [0.36514837 0.18257419 0.54772256 0.73029674] e v_j: [-0.29284666 -0.36761626 -0.58673565 -0.65942429]\n",
            "<v_i, v_j> = 0 para v_i: [-0.36738037 -0.17592863 -0.54589619 -0.73217356] e v_j: [-0.29284666 -0.36761626 -0.58673565 -0.65942429]\n"
          ]
        }
      ]
    }
  ]
}