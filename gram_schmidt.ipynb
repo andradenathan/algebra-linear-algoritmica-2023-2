{
  "nbformat": 4,
  "nbformat_minor": 0,
  "metadata": {
    "colab": {
      "provenance": [],
      "authorship_tag": "ABX9TyN3vjk1sciK2cGOxn/qcceZ",
      "include_colab_link": true
    },
    "kernelspec": {
      "name": "python3",
      "display_name": "Python 3"
    },
    "language_info": {
      "name": "python"
    }
  },
  "cells": [
    {
      "cell_type": "markdown",
      "metadata": {
        "id": "view-in-github",
        "colab_type": "text"
      },
      "source": [
        "<a href=\"https://colab.research.google.com/github/andradenathan/algebra-linear-algoritmica-2023-2/blob/main/gram_schmidt.ipynb\" target=\"_parent\"><img src=\"https://colab.research.google.com/assets/colab-badge.svg\" alt=\"Open In Colab\"/></a>"
      ]
    },
    {
      "cell_type": "markdown",
      "source": [
        "## Laboratório de Ortogonalização\n",
        "\n",
        "#### Nome: Nathan Andrade dos Santos Lobo\n",
        "#### DRE: 120082390"
      ],
      "metadata": {
        "id": "I7yLNGlWoBrl"
      }
    },
    {
      "cell_type": "code",
      "execution_count": 454,
      "metadata": {
        "id": "rT7a626lX6r0"
      },
      "outputs": [],
      "source": [
        "import numpy as np\n",
        "from scipy.linalg import lu\n",
        "import matplotlib.pyplot as plt\n",
        "\n",
        "A = np.array([\n",
        "    [2,1,3,4],\n",
        "    [4,5,8,9],\n",
        "    [-16,-17,-31,-35],\n",
        "    [12,12,23,26],\n",
        "    [20,22,39,44]\n",
        "])"
      ]
    },
    {
      "cell_type": "markdown",
      "source": [
        "### 1) Quais são os vetores linearmente independentes?"
      ],
      "metadata": {
        "id": "g-_7TG_1iVzv"
      }
    },
    {
      "cell_type": "code",
      "source": [
        "def pegar_vetores_linearmente_independente(U):\n",
        "  (n, m) = U.shape\n",
        "  LI = np.zeros((n,m))\n",
        "  for i in range(n):\n",
        "    vetor_nulo = all(map(lambda v: v == 0, U[i]))\n",
        "    if not vetor_nulo:\n",
        "      LI[:, i] = A[i]\n",
        "\n",
        "  colunas_nao_nulas = np.all(LI != 0, axis=0)\n",
        "  LI = LI[:, colunas_nao_nulas]\n",
        "  return LI"
      ],
      "metadata": {
        "id": "Dva4nqpkm4s1"
      },
      "execution_count": 455,
      "outputs": []
    },
    {
      "cell_type": "code",
      "source": [
        "P, L, U = lu(A.T)\n",
        "vetores_linearmente_independente = pegar_vetores_linearmente_independente(U)\n",
        "print(vetores_linearmente_independente)"
      ],
      "metadata": {
        "id": "HsqdljgGiL12",
        "colab": {
          "base_uri": "https://localhost:8080/"
        },
        "outputId": "69954bdd-f95d-4419-d1cf-4931375b12e6"
      },
      "execution_count": 456,
      "outputs": [
        {
          "output_type": "stream",
          "name": "stdout",
          "text": [
            "[[  2.   4. -16.]\n",
            " [  1.   5. -17.]\n",
            " [  3.   8. -31.]\n",
            " [  4.   9. -35.]]\n"
          ]
        }
      ]
    },
    {
      "cell_type": "markdown",
      "source": [
        "#### 2) A partir deles como encontrar geradores para o mesmo espaço ortonormais?\n",
        "\n",
        "Através do algoritmo de *Gram-Schmidt*. Do pseudocódigo da apostila do Collier, na página 162, temos:\n",
        "\n",
        "Passo 1. inicialize $β$ como a lista vazia \\\\\n",
        "Passo 2. atribua a $u_{1}$ a normalização de $v_{1}$ \\\\\n",
        "Passo 3. para $i$ = $2$, $\\cdots$, $m$ faça: \\\\\n",
        "$\\hspace{3cm}$ calcule $w_i$ = $v_i$ - $\\langle  \\; v_i, u_1 \\; \\rangle$ $u_1$ $- \\cdots - \\langle  \\; v_i, u_{i-1} \\; \\rangle$ $u_{i-1}$ \\\\\n",
        "$\\hspace{3cm}$ atribua a $u_{i}$ a normalização de $w_{i}$ \\\\\n",
        "$\\hspace{3cm}$ acrescente $u_{i}$ ao final de β\n",
        "\n",
        "retorne $β$."
      ],
      "metadata": {
        "id": "CsaDPRHIoOhM"
      }
    },
    {
      "cell_type": "code",
      "source": [
        "def gram_schmidt(vetores_LI):\n",
        "  (n, m) = vetores_LI.shape\n",
        "  base_ortonormal = np.zeros((n, m))\n",
        "  for i in range(m):\n",
        "    w_i = vetores_LI[:, i]\n",
        "    for j in range(i):\n",
        "      u_j = vetores_LI[:, j]\n",
        "      w_i = w_i - np.dot(u_j, w_i) * u_j\n",
        "    w_i = w_i / np.linalg.norm(w_i)\n",
        "    base_ortonormal[:, i] = w_i\n",
        "  return base_ortonormal\n",
        "\n",
        "base_ortonormal = gram_schmidt(vetores_linearmente_independente)\n",
        "print(base_ortonormal)"
      ],
      "metadata": {
        "colab": {
          "base_uri": "https://localhost:8080/"
        },
        "id": "qUc8I7TqoRKf",
        "outputId": "c928ef6c-d0dc-4d4a-f3f4-d475acc15d12"
      },
      "execution_count": 457,
      "outputs": [
        {
          "output_type": "stream",
          "name": "stdout",
          "text": [
            "[[ 0.36514837 -0.36738037 -0.29284666]\n",
            " [ 0.18257419 -0.17592863 -0.36761626]\n",
            " [ 0.54772256 -0.54589619 -0.58673565]\n",
            " [ 0.73029674 -0.73217356 -0.65942429]]\n"
          ]
        }
      ]
    },
    {
      "cell_type": "code",
      "source": [
        "def corretude_gram_schmidt(A):\n",
        "  (n,m) = A.shape\n",
        "  tolerancia = 1e-18\n",
        "  for i in range(m):\n",
        "    v_i = A[:, i]\n",
        "    for j in range(i+1, n-1):\n",
        "      v_j = A[:, j]\n",
        "      produto_interno = np.dot(v_i, v_j)\n",
        "      if abs(produto_interno) > tolerancia:\n",
        "        print(f\"<v_i, v_j> = 0 para v_i: {v_i} e v_j: {v_j}\")\n",
        "      else:\n",
        "        print(produto_interno)\n",
        "\n",
        "corretude_gram_schmidt(base_ortonormal)"
      ],
      "metadata": {
        "colab": {
          "base_uri": "https://localhost:8080/"
        },
        "id": "b9uaLvPdWZON",
        "outputId": "7b6ec1a2-2eea-4db2-e0ca-e0a07fa39dc1"
      },
      "execution_count": 458,
      "outputs": [
        {
          "output_type": "stream",
          "name": "stdout",
          "text": [
            "<v_i, v_j> = 0 para v_i: [0.36514837 0.18257419 0.54772256 0.73029674] e v_j: [-0.36738037 -0.17592863 -0.54589619 -0.73217356]\n",
            "<v_i, v_j> = 0 para v_i: [0.36514837 0.18257419 0.54772256 0.73029674] e v_j: [-0.29284666 -0.36761626 -0.58673565 -0.65942429]\n",
            "<v_i, v_j> = 0 para v_i: [-0.36738037 -0.17592863 -0.54589619 -0.73217356] e v_j: [-0.29284666 -0.36761626 -0.58673565 -0.65942429]\n"
          ]
        }
      ]
    },
    {
      "cell_type": "code",
      "source": [
        "from random import choice\n",
        "\n",
        "def random_color():\n",
        "  return choice(['b', 'g', 'r', 'c', 'k', 'y', 'orange', 'm'])\n",
        "\n",
        "def visualizar_gram_schmidt(vetores_LI, visualizacao = '2d'):\n",
        "  visualizacoes = ['2d', '3d']\n",
        "  if visualizacao not in visualizacoes:\n",
        "    raise RuntimeError('Você só pode visualizar o gráfico 2D ou 3D.')\n",
        "\n",
        "  base = gram_schmidt(vetores_LI)\n",
        "\n",
        "  if visualizacao == '2d':\n",
        "    fig, ax = plt.subplots()\n",
        "    for i in range(vetores_LI.shape[0]):\n",
        "      ax.quiver(0,0, vetores_LI[i, 0], vetores_LI[i, 1], angles='xy', scale_units='xy', scale=1, color=random_color(), label=f'Vetor {i}')\n",
        "\n",
        "    for i in range(base.shape[0]):\n",
        "      ax.quiver(0,0, base[i, 0], base[i, 1], angles='xy', scale_units='xy', scale=1, color=random_color(), label=f'Gram Schmidt {i}')\n",
        "\n",
        "    ax.set_aspect('equal')\n",
        "    plt.grid()\n",
        "\n",
        "  elif visualizacao == '3d':\n",
        "    fig = plt.figure()\n",
        "    ax = fig.add_subplot(111, projection='3d')\n",
        "\n",
        "    for i in range(vetores_LI.shape[0]):\n",
        "      ax.quiver(0,0,0, vetores_LI[i, 0], vetores_LI[i, 1], vetores_LI[i, 2], color=random_color())\n",
        "\n",
        "    for i in range(base.shape[0]):\n",
        "      ax.quiver(0,0,0, base[i, 0], base[i, 1], base[i, 2], color=random_color())\n",
        "\n",
        "  max_norm = max(np.linalg.norm(vetores_LI).max(), np.linalg.norm(base).max())\n",
        "  ax.set_xlim([-max_norm, max_norm])\n",
        "  ax.set_ylim([-max_norm, max_norm])\n",
        "\n",
        "  if vetores_LI.shape[1] == 3:\n",
        "    ax.set_zlim([-max_norm, max_norm])\n",
        "\n",
        "  ax.legend()\n",
        "\n",
        "  plt.show()"
      ],
      "metadata": {
        "id": "SAtUr-H5sJ6F"
      },
      "execution_count": 555,
      "outputs": []
    },
    {
      "cell_type": "code",
      "source": [
        "V = np.array([\n",
        "    [1,2],\n",
        "    [3,8],\n",
        "])\n",
        "visualizar_gram_schmidt(V, '2d')"
      ],
      "metadata": {
        "colab": {
          "base_uri": "https://localhost:8080/",
          "height": 430
        },
        "id": "yuK46AJWxLm4",
        "outputId": "c5b3893d-93e0-40bf-bf99-ce4242cc8714"
      },
      "execution_count": 556,
      "outputs": [
        {
          "output_type": "display_data",
          "data": {
            "text/plain": [
              "<Figure size 640x480 with 1 Axes>"
            ],
            "image/png": "[encoded data removed]"
          },
          "metadata": {}
        }
      ]
    }
  ]
}