{
  "nbformat": 4,
  "nbformat_minor": 0,
  "metadata": {
    "colab": {
      "provenance": [],
      "authorship_tag": "ABX9TyOLKf4tCMymbnIWSK0wfx2X",
      "include_colab_link": true
    },
    "kernelspec": {
      "name": "python3",
      "display_name": "Python 3"
    },
    "language_info": {
      "name": "python"
    }
  },
  "cells": [
    {
      "cell_type": "markdown",
      "metadata": {
        "id": "view-in-github",
        "colab_type": "text"
      },
      "source": [
        "<a href=\"https://colab.research.google.com/github/andradenathan/algebra-linear-algoritmica-2023-2/blob/main/decomposicao_QR.ipynb\" target=\"_parent\"><img src=\"https://colab.research.google.com/assets/colab-badge.svg\" alt=\"Open In Colab\"/></a>"
      ]
    },
    {
      "cell_type": "markdown",
      "source": [
        "### Implementação do Algoritmo de Decomposição QR\n",
        "\n",
        "Nome: Nathan Andrade dos Santos Lobo\n",
        "\n",
        "DRE: 120082390"
      ],
      "metadata": {
        "id": "NkJZ_Hd-LSVS"
      }
    },
    {
      "cell_type": "code",
      "execution_count": null,
      "metadata": {
        "id": "IVQb2UrE2LLr"
      },
      "outputs": [],
      "source": [
        "import numpy as np\n",
        "from math import sqrt\n",
        "\n",
        "def decomposicao_QR(A):\n",
        "  m, n = A.shape\n",
        "  Q = np.zeros((m, n))\n",
        "  R = np.zeros((n, n))\n",
        "\n",
        "  # repete execução do gram schmidt só que salvando o\n",
        "  # prod. interno na matriz R\n",
        "  for i in range(n):\n",
        "    w_i = A[:, i]\n",
        "    for j in range(i):\n",
        "      R[j, i] = np.dot(Q[:, j], A[:,i])\n",
        "      w_i = w_i - (R[j, i] * Q[:, j])\n",
        "\n",
        "    R[i, i] = np.linalg.norm(w_i)\n",
        "    Q[:, i] = w_i / R[i, i]\n",
        "\n",
        "  return Q, R"
      ]
    },
    {
      "cell_type": "code",
      "source": [
        "A = np.array([\n",
        "    [1., 2., 1.],\n",
        "    [1., 0., 0.],\n",
        "    [0., 1., 0.],\n",
        "    [0., 0., 1.]\n",
        "])\n",
        "\n",
        "Q, R = decomposicao_QR(A)\n",
        "\n",
        "print(\"Q:\")\n",
        "print(Q)\n",
        "\n",
        "print(\"-------\")\n",
        "\n",
        "print(\"R:\")\n",
        "print(R)"
      ],
      "metadata": {
        "colab": {
          "base_uri": "https://localhost:8080/"
        },
        "id": "sSlN2oRb3PDL",
        "outputId": "b5cd6154-b5a4-4698-e1db-11e9eccceb91"
      },
      "execution_count": null,
      "outputs": [
        {
          "output_type": "stream",
          "name": "stdout",
          "text": [
            "Q:\n",
            "[[ 0.70710678  0.57735027  0.15430335]\n",
            " [ 0.70710678 -0.57735027 -0.15430335]\n",
            " [ 0.          0.57735027 -0.3086067 ]\n",
            " [ 0.          0.          0.9258201 ]]\n",
            "-------\n",
            "R:\n",
            "[[1.41421356 1.41421356 0.70710678]\n",
            " [0.         1.73205081 0.57735027]\n",
            " [0.         0.         1.08012345]]\n"
          ]
        }
      ]
    }
  ]
}